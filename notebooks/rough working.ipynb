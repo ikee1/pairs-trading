{
 "cells": [
  {
   "cell_type": "code",
   "execution_count": 6,
   "id": "a6105246-62e4-4c96-96c5-eba893f05cea",
   "metadata": {},
   "outputs": [],
   "source": [
    "#initiating libraries\n",
    "import pandas as pd\n",
    "import yfinance as yf\n",
    "import numpy as np\n",
    "import statsmodels.tsa.stattools as ts"
   ]
  },
  {
   "cell_type": "raw",
   "id": "be0137a9-0a90-4275-85a0-c0fb180bcf99",
   "metadata": {},
   "source": [
    "trying AAPL to learn how it works"
   ]
  },
  {
   "cell_type": "code",
   "execution_count": 9,
   "id": "92450ecf-9031-4ca3-9cb6-31eee6b8796d",
   "metadata": {},
   "outputs": [
    {
     "data": {
      "text/plain": [
       "yfinance.Ticker object <AAPL>"
      ]
     },
     "execution_count": 9,
     "metadata": {},
     "output_type": "execute_result"
    }
   ],
   "source": [
    "aapl = yf.Ticker(\"aapl\")\n",
    "aapl"
   ]
  },
  {
   "cell_type": "code",
   "execution_count": 12,
   "id": "85e89f31-fbbc-4262-b68a-c15ea6cbbb64",
   "metadata": {},
   "outputs": [],
   "source": [
    "#using historic module\n",
    "aapl_historic = aapl.history(start=\"2000-01-01\", end=\"2010-01-01\", interval=\"1d\")\n",
    "#print(aapl_historic)"
   ]
  },
  {
   "cell_type": "raw",
   "id": "2322bb5d-3829-4b32-abf1-0e8a43e8ab80",
   "metadata": {},
   "source": [
    "using download module for KO and PEP for 2010-2023"
   ]
  },
  {
   "cell_type": "code",
   "execution_count": 14,
   "id": "7875d7a4-9f94-4499-85eb-1d91ef847b50",
   "metadata": {
    "scrolled": true
   },
   "outputs": [
    {
     "ename": "SyntaxError",
     "evalue": "unmatched ')' (3164909684.py, line 1)",
     "output_type": "error",
     "traceback": [
      "\u001b[1;36m  Cell \u001b[1;32mIn[14], line 1\u001b[1;36m\u001b[0m\n\u001b[1;33m    data = yf.download)\"KO PEP\", start=\"2010-01-01\", end=\"2023-01-01\", interval=\"1d\"[Adj Close])\u001b[0m\n\u001b[1;37m                      ^\u001b[0m\n\u001b[1;31mSyntaxError\u001b[0m\u001b[1;31m:\u001b[0m unmatched ')'\n"
     ]
    }
   ],
   "source": [
    "data = yf.download)\"KO PEP\", start=\"2010-01-01\", end=\"2023-01-01\", interval=\"1d\"[Adj Close])\n",
    "#data = yf.download(\"KO PEP\", start=\"2010-01-01\", end=\"2023-01-01\", interval=\"1d\")\n",
    "#data"
   ]
  },
  {
   "cell_type": "code",
   "execution_count": null,
   "id": "aa5a97c6-4b79-4597-92e7-66b005d866f4",
   "metadata": {},
   "outputs": [],
   "source": []
  }
 ],
 "metadata": {
  "kernelspec": {
   "display_name": "Python 3 (ipykernel)",
   "language": "python",
   "name": "python3"
  },
  "language_info": {
   "codemirror_mode": {
    "name": "ipython",
    "version": 3
   },
   "file_extension": ".py",
   "mimetype": "text/x-python",
   "name": "python",
   "nbconvert_exporter": "python",
   "pygments_lexer": "ipython3",
   "version": "3.12.7"
  }
 },
 "nbformat": 4,
 "nbformat_minor": 5
}
